{
 "cells": [
  {
   "cell_type": "code",
   "execution_count": 1,
   "id": "319c1f8c",
   "metadata": {},
   "outputs": [],
   "source": [
    "import os\n",
    "import time\n",
    "\n",
    "Repeat_Interval=3600\n",
    "\n",
    "while True:\n",
    "    command=\n"
   ]
  },
  {
   "cell_type": "code",
   "execution_count": null,
   "id": "87fa530e",
   "metadata": {},
   "outputs": [],
   "source": [
    "from win10toast import ToastNotifier\n",
    "\n",
    "toast = ToastNotifier()\n",
    "\n",
    "toast.show_toast(\n",
    "    \"Notification\",\n",
    "    \"Notification body\",\n",
    "    duration = 20,\n",
    "    icon_path = \"icon.ico\",\n",
    "    threaded = True,\n",
    ")"
   ]
  },
  {
   "cell_type": "code",
   "execution_count": null,
   "id": "29155974",
   "metadata": {},
   "outputs": [],
   "source": [
    "from winotify import Notification, audio\n",
    "import time\n",
    "\n",
    "while True:\n",
    "\n",
    "    toast = Notification(app_id=\"IMPORTANT\",\n",
    "                         title=\"Message\", msg=\"please drink water\",\n",
    "                         duration=\"short\", icon=\"C:\\water.jpeg\")\n",
    "    toast.set_audio(audio.LoopingAlarm, loop=False)\n",
    "\n",
    "    toast.show()\n",
    "    time.sleep(10)"
   ]
  },
  {
   "cell_type": "code",
   "execution_count": null,
   "id": "1729daf2",
   "metadata": {},
   "outputs": [],
   "source": [
    "from plyer import notification\n",
    "\n",
    "notification.notify(\n",
    "title = \"Sample Notification\",\n",
    "message = \"This is a sample notification\",\n",
    "timeout = 10\n",
    ")"
   ]
  },
  {
   "cell_type": "code",
   "execution_count": null,
   "id": "8c24153c",
   "metadata": {},
   "outputs": [],
   "source": [
    "import os\n",
    "import time \n",
    "\n",
    "REPEAT_INTERVAL = 3600 # Repeat frequency in seconds\n",
    "\n",
    "while True:\n",
    "  command = \"osascript -e \\'say \\\"Hey Harry drink water\\\"\\'; osascript -e \\'display alert \\\"Hey Harry, Drink water\\\"\\'\"\n",
    "  os.system(command)\n",
    "  time.sleep(REPEAT_INTERVAL)"
   ]
  },
  {
   "cell_type": "code",
   "execution_count": null,
   "id": "1181a250",
   "metadata": {},
   "outputs": [],
   "source": [
    "from plyer import notification\n",
    "import time\n",
    "\n",
    "def water_notification():\n",
    "    notification_title = \"Time to Drink Water!\"\n",
    "    notification_message = \"Remember to stay hydrated. Drink a glass of water now!\"\n",
    "    notification_timeout = 10  # Notification timeout in seconds\n",
    "\n",
    "    notification.notify(\n",
    "        title=notification_title,\n",
    "        message=notification_message,\n",
    "        timeout=notification_timeout\n",
    "    )\n",
    "\n",
    "def main():\n",
    "    # Set the time interval (in seconds) for notifications (1 hour = 3600 seconds)\n",
    "    notification_interval = 3600  # 1 hour\n",
    "\n",
    "    while True:\n",
    "        water_notification()\n",
    "        time.sleep(notification_interval)\n",
    "\n",
    "if __name__ == \"__main__\":\n",
    "    main()\n"
   ]
  },
  {
   "cell_type": "code",
   "execution_count": null,
   "id": "d047d6a3",
   "metadata": {},
   "outputs": [],
   "source": []
  }
 ],
 "metadata": {
  "kernelspec": {
   "display_name": "Python 3 (ipykernel)",
   "language": "python",
   "name": "python3"
  },
  "language_info": {
   "codemirror_mode": {
    "name": "ipython",
    "version": 3
   },
   "file_extension": ".py",
   "mimetype": "text/x-python",
   "name": "python",
   "nbconvert_exporter": "python",
   "pygments_lexer": "ipython3",
   "version": "3.11.3"
  }
 },
 "nbformat": 4,
 "nbformat_minor": 5
}
