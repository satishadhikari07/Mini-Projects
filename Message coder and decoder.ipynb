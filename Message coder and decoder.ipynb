{
 "cells": [
  {
   "cell_type": "code",
   "execution_count": 1,
   "id": "13d97b06",
   "metadata": {},
   "outputs": [],
   "source": [
    "#Write a python program to translate a message into secret code language.\n",
    "#coading\n",
    "#if the word contains atleast 3 characters, remove the first letter and append it at the end \n",
    "#now append any three random character at end and start\n",
    "\n",
    "#else:\n",
    "#simply reverse the string\n",
    "\n",
    "\n",
    "#decoding\n",
    "#if the word contains less than three character then revers it\n",
    "#remove 3 random character from start and end. Now remove the last letter and append it to the begining\n",
    "\n"
   ]
  },
  {
   "cell_type": "code",
   "execution_count": 11,
   "id": "99067f21",
   "metadata": {},
   "outputs": [
    {
     "name": "stdout",
     "output_type": "stream",
     "text": [
      "Enter message: My name is Milan\n",
      "1 for Coding or 0 for Decoding: 1\n",
      "True\n",
      "yM dsfamenjkr si dsfilanMjkr\n"
     ]
    }
   ],
   "source": [
    "st = input(\"Enter message: \")\n",
    "words = st.split(\" \")\n",
    "coding = input(\"1 for Coding or 0 for Decoding: \")\n",
    "coding = True if (coding==\"1\") else False\n",
    "print(coding)\n",
    "\n",
    "if(coding):\n",
    "  nwords = []\n",
    "  for word in words:\n",
    "    if(len(word)>=3):\n",
    "      r1 = \"dsf\"\n",
    "      r2 = \"jkr\"\n",
    "      stnew = r1+ word[1:] + word[0] + r2\n",
    "      nwords.append(stnew)\n",
    "    else:\n",
    "      nwords.append(word[::-1])\n",
    "  print(\" \".join(nwords))\n",
    "\n",
    "else:\n",
    "  nwords = []\n",
    "  for word in words:\n",
    "    if(len(word)>=3): \n",
    "      stnew = word[3:-3]\n",
    "      stnew = stnew[-1] + stnew[:-1]\n",
    "      nwords.append(stnew)\n",
    "    else:\n",
    "      nwords.append(word[::-1])\n",
    "  print(\" \".join(nwords))\n",
    "  \n",
    "  "
   ]
  },
  {
   "cell_type": "code",
   "execution_count": null,
   "id": "2eb9290b",
   "metadata": {},
   "outputs": [],
   "source": []
  }
 ],
 "metadata": {
  "kernelspec": {
   "display_name": "Python 3 (ipykernel)",
   "language": "python",
   "name": "python3"
  },
  "language_info": {
   "codemirror_mode": {
    "name": "ipython",
    "version": 3
   },
   "file_extension": ".py",
   "mimetype": "text/x-python",
   "name": "python",
   "nbconvert_exporter": "python",
   "pygments_lexer": "ipython3",
   "version": "3.11.3"
  }
 },
 "nbformat": 4,
 "nbformat_minor": 5
}
