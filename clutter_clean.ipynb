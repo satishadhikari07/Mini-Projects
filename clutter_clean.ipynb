{
 "cells": [
  {
   "cell_type": "code",
   "execution_count": null,
   "id": "541703b9",
   "metadata": {},
   "outputs": [],
   "source": []
  },
  {
   "cell_type": "code",
   "execution_count": 1,
   "id": "3fe8dc07",
   "metadata": {},
   "outputs": [],
   "source": [
    "#Write a program to clear the clutter inside your computer folder.\n",
    "#You should use IO module to rename all the png image from 1.png all the way till n.png where n is the png number of png file in the folder\n",
    "#Do the same for other file format"
   ]
  },
  {
   "cell_type": "code",
   "execution_count": 2,
   "id": "cea84daf",
   "metadata": {},
   "outputs": [],
   "source": [
    "# To renamea folder"
   ]
  },
  {
   "cell_type": "code",
   "execution_count": 3,
   "id": "ad6b0ae0",
   "metadata": {},
   "outputs": [],
   "source": [
    "import os\n",
    "os.rename(\"clutter/python note.pdf\", \"clutter/python.pdf\")"
   ]
  },
  {
   "cell_type": "code",
   "execution_count": 9,
   "id": "ebe7b9fa",
   "metadata": {},
   "outputs": [
    {
     "name": "stdout",
     "output_type": "stream",
     "text": [
      "1.png\n",
      "png-transparent-spider-man-heroes-download-with-transparent-background-free-thumbnail.png\n"
     ]
    }
   ],
   "source": [
    "import os\n",
    "\n",
    "files = os.listdir(\"clutter\")\n",
    "i=1\n",
    "\n",
    "for file in files:\n",
    "    if file.endswith(\"png\"):\n",
    "        print(file)\n",
    "        \n",
    "        os.rename(f\"clutter/{file}\", f\"clutter/{i}.png\")\n",
    "        i=i+1"
   ]
  },
  {
   "cell_type": "code",
   "execution_count": null,
   "id": "1e373b59",
   "metadata": {},
   "outputs": [],
   "source": []
  }
 ],
 "metadata": {
  "kernelspec": {
   "display_name": "Python 3 (ipykernel)",
   "language": "python",
   "name": "python3"
  },
  "language_info": {
   "codemirror_mode": {
    "name": "ipython",
    "version": 3
   },
   "file_extension": ".py",
   "mimetype": "text/x-python",
   "name": "python",
   "nbconvert_exporter": "python",
   "pygments_lexer": "ipython3",
   "version": "3.11.3"
  }
 },
 "nbformat": 4,
 "nbformat_minor": 5
}
