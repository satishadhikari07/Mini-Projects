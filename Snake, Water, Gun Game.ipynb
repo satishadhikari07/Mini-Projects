{
 "cells": [
  {
   "cell_type": "code",
   "execution_count": 20,
   "id": "c1a89f65",
   "metadata": {},
   "outputs": [
    {
     "name": "stdout",
     "output_type": "stream",
     "text": [
      "Enter 0 for snake, 1 for water and 2 for gun:1\n",
      "You: 1\n",
      "Computer 1\n",
      "Its draw\n"
     ]
    }
   ],
   "source": [
    "import random\n",
    "\n",
    "def check(user, comp):\n",
    "\n",
    "    if comp==user:\n",
    "        return 0\n",
    "\n",
    "\n",
    "    if((comp==0 and user==1) or(comp==1 and user==2) or (comp==2 and user==0)):\n",
    "        return -1\n",
    "    \n",
    "\n",
    "    if(user>2):\n",
    "        return 2\n",
    "    \n",
    "    else:\n",
    "        return 1\n",
    "    \n",
    "\n",
    "    \n",
    "comp=random.randint(0,2)\n",
    "user=int(input(\"Enter 0 for snake, 1 for water and 2 for gun:\"))\n",
    "\n",
    "score=check(user, comp)\n",
    "\n",
    "print(\"You:\", user)\n",
    "print(\"Computer\",comp)\n",
    "\n",
    "if(score==0):\n",
    "    print(\"Its draw\")\n",
    "\n",
    "elif(score==-1):\n",
    "    print(\"Computer win\")\n",
    "               \n",
    "        \n",
    "elif(score==2):\n",
    "    print(\"Wrong Choice\")\n",
    "               \n",
    "\n",
    "else:\n",
    "    print(\"You Win\")"
   ]
  },
  {
   "cell_type": "code",
   "execution_count": null,
   "id": "ba9f1f2b",
   "metadata": {},
   "outputs": [],
   "source": []
  }
 ],
 "metadata": {
  "kernelspec": {
   "display_name": "Python 3 (ipykernel)",
   "language": "python",
   "name": "python3"
  },
  "language_info": {
   "codemirror_mode": {
    "name": "ipython",
    "version": 3
   },
   "file_extension": ".py",
   "mimetype": "text/x-python",
   "name": "python",
   "nbconvert_exporter": "python",
   "pygments_lexer": "ipython3",
   "version": "3.11.3"
  }
 },
 "nbformat": 4,
 "nbformat_minor": 5
}
