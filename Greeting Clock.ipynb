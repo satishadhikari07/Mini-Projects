{
 "cells": [
  {
   "cell_type": "code",
   "execution_count": 23,
   "id": "8802fbb8",
   "metadata": {},
   "outputs": [],
   "source": [
    "#write a code for greeting clock"
   ]
  },
  {
   "cell_type": "code",
   "execution_count": 1,
   "id": "2ebeeb46",
   "metadata": {},
   "outputs": [
    {
     "name": "stdout",
     "output_type": "stream",
     "text": [
      "Now time is:15:47:10\n",
      "Good Afternoon\n"
     ]
    }
   ],
   "source": [
    "import time\n",
    "a=time.strftime(\"%H:%M:%S\")\n",
    "print(f\"Now time is:{a}\")\n",
    "\n",
    "h=time.strftime(\"%H\")\n",
    "#h=int(input(\"Enter time:\"))\n",
    "\n",
    "if (int(h)>0 and int(h)<6):\n",
    "    print(\"Early Morning\")\n",
    "    \n",
    "elif (int(h)>6 and int(h)<12):\n",
    "    print(\"Good Morining\")\n",
    "    \n",
    "elif (int(h)==12):\n",
    "    print(\"Noon\")\n",
    "    \n",
    "elif (int(h)>12 and int(h)<18):\n",
    "    print(\"Good Afternoon\")\n",
    "    \n",
    "elif(int(h)>18 and int(h)<22):\n",
    "    print(\"Good Evening\")\n",
    "    \n",
    "else:\n",
    "    print(\"Good Night\")"
   ]
  },
  {
   "cell_type": "code",
   "execution_count": null,
   "id": "0a09ccef",
   "metadata": {},
   "outputs": [],
   "source": []
  }
 ],
 "metadata": {
  "kernelspec": {
   "display_name": "Python 3 (ipykernel)",
   "language": "python",
   "name": "python3"
  },
  "language_info": {
   "codemirror_mode": {
    "name": "ipython",
    "version": 3
   },
   "file_extension": ".py",
   "mimetype": "text/x-python",
   "name": "python",
   "nbconvert_exporter": "python",
   "pygments_lexer": "ipython3",
   "version": "3.11.3"
  }
 },
 "nbformat": 4,
 "nbformat_minor": 5
}
